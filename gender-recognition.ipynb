{
 "cells": [
  {
   "cell_type": "code",
   "execution_count": 8,
   "metadata": {
    "_cell_guid": "b1076dfc-b9ad-4769-8c92-a6c4dae69d19",
    "_uuid": "8f2839f25d086af736a60e9eeb907d3b93b6e0e5",
    "execution": {
     "iopub.execute_input": "2022-09-08T19:42:46.023404Z",
     "iopub.status.busy": "2022-09-08T19:42:46.022925Z",
     "iopub.status.idle": "2022-09-08T19:42:52.187781Z",
     "shell.execute_reply": "2022-09-08T19:42:52.186730Z",
     "shell.execute_reply.started": "2022-09-08T19:42:46.023286Z"
    }
   },
   "outputs": [],
   "source": [
    "# Import necessary libraries\n",
    "import pandas as pd\n",
    "import numpy as np\n",
    "import cv2\n",
    "import matplotlib.pyplot as plt\n",
    "from tensorflow.keras.preprocessing import image\n",
    "\n",
    "import PIL.Image as Image\n",
    "import pathlib\n",
    "import os\n",
    "\n",
    "import tensorflow as tf\n",
    "\n",
    "\n",
    "from tensorflow import keras\n",
    "\n",
    "from tensorflow.keras.preprocessing.image import img_to_array\n",
    "\n",
    "from tensorflow.keras import layers\n",
    "from tensorflow.keras.models import Sequential"
   ]
  },
  {
   "cell_type": "code",
   "execution_count": 9,
   "metadata": {
    "execution": {
     "iopub.execute_input": "2022-09-08T19:42:52.190295Z",
     "iopub.status.busy": "2022-09-08T19:42:52.189653Z",
     "iopub.status.idle": "2022-09-08T19:44:47.096293Z",
     "shell.execute_reply": "2022-09-08T19:44:47.095295Z",
     "shell.execute_reply.started": "2022-09-08T19:42:52.190256Z"
    }
   },
   "outputs": [],
   "source": [
    "# Get directory path to Training dataset\n",
    "train_dir = pathlib.Path('data/Training')\n",
    "# Get a list of all images in the Training dataset\n",
    "train_image_paths = list(train_dir.glob(r'**/*.jpg'))\n",
    "\n",
    "# Get directory path to Validation dataset\n",
    "valid_dir = pathlib.Path('data/Validation')\n",
    "# Get a list of all images in the Validation dataset\n",
    "valid_image_paths = list(valid_dir.glob(r'**/*.jpg'))"
   ]
  },
  {
   "cell_type": "markdown",
   "metadata": {},
   "source": [
    "## Image Processing"
   ]
  },
  {
   "cell_type": "code",
   "execution_count": 10,
   "metadata": {
    "execution": {
     "iopub.execute_input": "2022-09-08T20:08:43.359141Z",
     "iopub.status.busy": "2022-09-08T20:08:43.358774Z",
     "iopub.status.idle": "2022-09-08T20:08:43.365920Z",
     "shell.execute_reply": "2022-09-08T20:08:43.364829Z",
     "shell.execute_reply.started": "2022-09-08T20:08:43.359111Z"
    }
   },
   "outputs": [],
   "source": [
    "# Create a function to extract the labels from image filepath\n",
    "def image_processing(filepath):\n",
    "    labels = [str(filepath[i]).split('/')[-2]\n",
    "             for i in range(len(filepath))]\n",
    "    \n",
    "    # Create a DataFrame and input the filepath and labels\n",
    "    filepath = pd.Series(filepath, name = 'Filepath').astype(str)\n",
    "    labels = pd.Series(labels, name = 'Label')\n",
    "    \n",
    "    df = pd.concat([filepath, labels], axis='columns')\n",
    "    \n",
    "    return df"
   ]
  },
  {
   "cell_type": "code",
   "execution_count": 11,
   "metadata": {
    "execution": {
     "iopub.execute_input": "2022-09-08T20:08:44.506624Z",
     "iopub.status.busy": "2022-09-08T20:08:44.506224Z",
     "iopub.status.idle": "2022-09-08T20:08:44.724631Z",
     "shell.execute_reply": "2022-09-08T20:08:44.723297Z",
     "shell.execute_reply.started": "2022-09-08T20:08:44.506593Z"
    }
   },
   "outputs": [
    {
     "name": "stderr",
     "output_type": "stream",
     "text": [
      "/tmp/ipykernel_15058/467242221.py:7: FutureWarning: The default dtype for empty Series will be 'object' instead of 'float64' in a future version. Specify a dtype explicitly to silence this warning.\n",
      "  filepath = pd.Series(filepath, name = 'Filepath').astype(str)\n",
      "/tmp/ipykernel_15058/467242221.py:8: FutureWarning: The default dtype for empty Series will be 'object' instead of 'float64' in a future version. Specify a dtype explicitly to silence this warning.\n",
      "  labels = pd.Series(labels, name = 'Label')\n"
     ]
    }
   ],
   "source": [
    "# Create a train and validation DataFrame\n",
    "train_df = image_processing(train_image_paths)\n",
    "val_df = image_processing(valid_image_paths)"
   ]
  },
  {
   "cell_type": "code",
   "execution_count": 12,
   "metadata": {
    "execution": {
     "iopub.execute_input": "2022-09-08T20:08:46.860944Z",
     "iopub.status.busy": "2022-09-08T20:08:46.860561Z",
     "iopub.status.idle": "2022-09-08T20:08:46.883985Z",
     "shell.execute_reply": "2022-09-08T20:08:46.883031Z",
     "shell.execute_reply.started": "2022-09-08T20:08:46.860913Z"
    }
   },
   "outputs": [],
   "source": [
    "# Create DataFrame with just one label for each label\n",
    "df_unique = train_df.copy().drop_duplicates(subset=['Label']).reset_index()"
   ]
  },
  {
   "cell_type": "code",
   "execution_count": 13,
   "metadata": {
    "execution": {
     "iopub.execute_input": "2022-09-08T20:08:49.192993Z",
     "iopub.status.busy": "2022-09-08T20:08:49.192617Z",
     "iopub.status.idle": "2022-09-08T20:08:49.199329Z",
     "shell.execute_reply": "2022-09-08T20:08:49.198331Z",
     "shell.execute_reply.started": "2022-09-08T20:08:49.192962Z"
    }
   },
   "outputs": [],
   "source": [
    "# Generate new images from dataset\n",
    "train_generator = tf.keras.preprocessing.image.ImageDataGenerator(\n",
    "preprocessing_function = tf.keras.applications.mobilenet_v2.preprocess_input\n",
    ")\n",
    "\n",
    "val_generator = tf.keras.preprocessing.image.ImageDataGenerator(\n",
    "preprocessing_function = tf.keras.applications.mobilenet_v2.preprocess_input\n",
    ")"
   ]
  },
  {
   "cell_type": "code",
   "execution_count": 14,
   "metadata": {
    "execution": {
     "iopub.execute_input": "2022-09-08T20:08:52.860193Z",
     "iopub.status.busy": "2022-09-08T20:08:52.859814Z",
     "iopub.status.idle": "2022-09-08T20:09:45.752124Z",
     "shell.execute_reply": "2022-09-08T20:09:45.751050Z",
     "shell.execute_reply.started": "2022-09-08T20:08:52.860160Z"
    }
   },
   "outputs": [
    {
     "ename": "KeyError",
     "evalue": "'Label'",
     "output_type": "error",
     "traceback": [
      "\u001b[0;31m---------------------------------------------------------------------------\u001b[0m",
      "\u001b[0;31mKeyError\u001b[0m                                  Traceback (most recent call last)",
      "File \u001b[0;32m~/anaconda3/envs/tensor/lib/python3.9/site-packages/pandas/core/indexes/base.py:3800\u001b[0m, in \u001b[0;36mIndex.get_loc\u001b[0;34m(self, key, method, tolerance)\u001b[0m\n\u001b[1;32m   3799\u001b[0m \u001b[39mtry\u001b[39;00m:\n\u001b[0;32m-> 3800\u001b[0m     \u001b[39mreturn\u001b[39;00m \u001b[39mself\u001b[39;49m\u001b[39m.\u001b[39;49m_engine\u001b[39m.\u001b[39;49mget_loc(casted_key)\n\u001b[1;32m   3801\u001b[0m \u001b[39mexcept\u001b[39;00m \u001b[39mKeyError\u001b[39;00m \u001b[39mas\u001b[39;00m err:\n",
      "File \u001b[0;32m~/anaconda3/envs/tensor/lib/python3.9/site-packages/pandas/_libs/index.pyx:138\u001b[0m, in \u001b[0;36mpandas._libs.index.IndexEngine.get_loc\u001b[0;34m()\u001b[0m\n",
      "File \u001b[0;32m~/anaconda3/envs/tensor/lib/python3.9/site-packages/pandas/_libs/index.pyx:165\u001b[0m, in \u001b[0;36mpandas._libs.index.IndexEngine.get_loc\u001b[0;34m()\u001b[0m\n",
      "File \u001b[0;32mpandas/_libs/hashtable_class_helper.pxi:5745\u001b[0m, in \u001b[0;36mpandas._libs.hashtable.PyObjectHashTable.get_item\u001b[0;34m()\u001b[0m\n",
      "File \u001b[0;32mpandas/_libs/hashtable_class_helper.pxi:5753\u001b[0m, in \u001b[0;36mpandas._libs.hashtable.PyObjectHashTable.get_item\u001b[0;34m()\u001b[0m\n",
      "\u001b[0;31mKeyError\u001b[0m: 'Label'",
      "\nThe above exception was the direct cause of the following exception:\n",
      "\u001b[0;31mKeyError\u001b[0m                                  Traceback (most recent call last)",
      "\u001b[1;32m/home/eben-success/Desktop/mis/Paper Review/Real-time-Gender-Detection/gender-recognition.ipynb Cell 8\u001b[0m in \u001b[0;36m<cell line: 2>\u001b[0;34m()\u001b[0m\n\u001b[1;32m      <a href='vscode-notebook-cell:/home/eben-success/Desktop/mis/Paper%20Review/Real-time-Gender-Detection/gender-recognition.ipynb#X10sZmlsZQ%3D%3D?line=0'>1</a>\u001b[0m \u001b[39m# Generate images using 'train_df' DataFrame\u001b[39;00m\n\u001b[0;32m----> <a href='vscode-notebook-cell:/home/eben-success/Desktop/mis/Paper%20Review/Real-time-Gender-Detection/gender-recognition.ipynb#X10sZmlsZQ%3D%3D?line=1'>2</a>\u001b[0m train_images \u001b[39m=\u001b[39m train_generator\u001b[39m.\u001b[39;49mflow_from_dataframe(\n\u001b[1;32m      <a href='vscode-notebook-cell:/home/eben-success/Desktop/mis/Paper%20Review/Real-time-Gender-Detection/gender-recognition.ipynb#X10sZmlsZQ%3D%3D?line=2'>3</a>\u001b[0m     dataframe  \u001b[39m=\u001b[39;49m train_df,\n\u001b[1;32m      <a href='vscode-notebook-cell:/home/eben-success/Desktop/mis/Paper%20Review/Real-time-Gender-Detection/gender-recognition.ipynb#X10sZmlsZQ%3D%3D?line=3'>4</a>\u001b[0m     x_col \u001b[39m=\u001b[39;49m \u001b[39m'\u001b[39;49m\u001b[39mFilepath\u001b[39;49m\u001b[39m'\u001b[39;49m,\n\u001b[1;32m      <a href='vscode-notebook-cell:/home/eben-success/Desktop/mis/Paper%20Review/Real-time-Gender-Detection/gender-recognition.ipynb#X10sZmlsZQ%3D%3D?line=4'>5</a>\u001b[0m     y_col \u001b[39m=\u001b[39;49m \u001b[39m'\u001b[39;49m\u001b[39mLabel\u001b[39;49m\u001b[39m'\u001b[39;49m,\n\u001b[1;32m      <a href='vscode-notebook-cell:/home/eben-success/Desktop/mis/Paper%20Review/Real-time-Gender-Detection/gender-recognition.ipynb#X10sZmlsZQ%3D%3D?line=5'>6</a>\u001b[0m     target_size \u001b[39m=\u001b[39;49m (\u001b[39m224\u001b[39;49m, \u001b[39m224\u001b[39;49m),\n\u001b[1;32m      <a href='vscode-notebook-cell:/home/eben-success/Desktop/mis/Paper%20Review/Real-time-Gender-Detection/gender-recognition.ipynb#X10sZmlsZQ%3D%3D?line=6'>7</a>\u001b[0m     color_mode \u001b[39m=\u001b[39;49m \u001b[39m'\u001b[39;49m\u001b[39mrgb\u001b[39;49m\u001b[39m'\u001b[39;49m,\n\u001b[1;32m      <a href='vscode-notebook-cell:/home/eben-success/Desktop/mis/Paper%20Review/Real-time-Gender-Detection/gender-recognition.ipynb#X10sZmlsZQ%3D%3D?line=7'>8</a>\u001b[0m     class_mode \u001b[39m=\u001b[39;49m \u001b[39m'\u001b[39;49m\u001b[39mcategorical\u001b[39;49m\u001b[39m'\u001b[39;49m,\n\u001b[1;32m      <a href='vscode-notebook-cell:/home/eben-success/Desktop/mis/Paper%20Review/Real-time-Gender-Detection/gender-recognition.ipynb#X10sZmlsZQ%3D%3D?line=8'>9</a>\u001b[0m     batch_size \u001b[39m=\u001b[39;49m \u001b[39m32\u001b[39;49m,\n\u001b[1;32m     <a href='vscode-notebook-cell:/home/eben-success/Desktop/mis/Paper%20Review/Real-time-Gender-Detection/gender-recognition.ipynb#X10sZmlsZQ%3D%3D?line=9'>10</a>\u001b[0m     shuffle \u001b[39m=\u001b[39;49m \u001b[39mTrue\u001b[39;49;00m,\n\u001b[1;32m     <a href='vscode-notebook-cell:/home/eben-success/Desktop/mis/Paper%20Review/Real-time-Gender-Detection/gender-recognition.ipynb#X10sZmlsZQ%3D%3D?line=10'>11</a>\u001b[0m     seed \u001b[39m=\u001b[39;49m \u001b[39m0\u001b[39;49m,\n\u001b[1;32m     <a href='vscode-notebook-cell:/home/eben-success/Desktop/mis/Paper%20Review/Real-time-Gender-Detection/gender-recognition.ipynb#X10sZmlsZQ%3D%3D?line=11'>12</a>\u001b[0m     rotation_range \u001b[39m=\u001b[39;49m \u001b[39m30\u001b[39;49m,\n\u001b[1;32m     <a href='vscode-notebook-cell:/home/eben-success/Desktop/mis/Paper%20Review/Real-time-Gender-Detection/gender-recognition.ipynb#X10sZmlsZQ%3D%3D?line=12'>13</a>\u001b[0m     zoom_range \u001b[39m=\u001b[39;49m \u001b[39m0.15\u001b[39;49m,\n\u001b[1;32m     <a href='vscode-notebook-cell:/home/eben-success/Desktop/mis/Paper%20Review/Real-time-Gender-Detection/gender-recognition.ipynb#X10sZmlsZQ%3D%3D?line=13'>14</a>\u001b[0m     width_shift_range \u001b[39m=\u001b[39;49m \u001b[39m0.2\u001b[39;49m,\n\u001b[1;32m     <a href='vscode-notebook-cell:/home/eben-success/Desktop/mis/Paper%20Review/Real-time-Gender-Detection/gender-recognition.ipynb#X10sZmlsZQ%3D%3D?line=14'>15</a>\u001b[0m     height_shift_range \u001b[39m=\u001b[39;49m \u001b[39m0.2\u001b[39;49m,\n\u001b[1;32m     <a href='vscode-notebook-cell:/home/eben-success/Desktop/mis/Paper%20Review/Real-time-Gender-Detection/gender-recognition.ipynb#X10sZmlsZQ%3D%3D?line=15'>16</a>\u001b[0m     shear_range \u001b[39m=\u001b[39;49m \u001b[39m0.15\u001b[39;49m,\n\u001b[1;32m     <a href='vscode-notebook-cell:/home/eben-success/Desktop/mis/Paper%20Review/Real-time-Gender-Detection/gender-recognition.ipynb#X10sZmlsZQ%3D%3D?line=16'>17</a>\u001b[0m     horizontal_flip \u001b[39m=\u001b[39;49m \u001b[39mTrue\u001b[39;49;00m,\n\u001b[1;32m     <a href='vscode-notebook-cell:/home/eben-success/Desktop/mis/Paper%20Review/Real-time-Gender-Detection/gender-recognition.ipynb#X10sZmlsZQ%3D%3D?line=17'>18</a>\u001b[0m     fill_mode \u001b[39m=\u001b[39;49m \u001b[39m'\u001b[39;49m\u001b[39mnearest\u001b[39;49m\u001b[39m'\u001b[39;49m\n\u001b[1;32m     <a href='vscode-notebook-cell:/home/eben-success/Desktop/mis/Paper%20Review/Real-time-Gender-Detection/gender-recognition.ipynb#X10sZmlsZQ%3D%3D?line=18'>19</a>\u001b[0m )\n",
      "File \u001b[0;32m~/anaconda3/envs/tensor/lib/python3.9/site-packages/tensorflow/python/keras/preprocessing/image.py:1080\u001b[0m, in \u001b[0;36mImageDataGenerator.flow_from_dataframe\u001b[0;34m(self, dataframe, directory, x_col, y_col, weight_col, target_size, color_mode, classes, class_mode, batch_size, shuffle, seed, save_to_dir, save_prefix, save_format, subset, interpolation, validate_filenames, **kwargs)\u001b[0m\n\u001b[1;32m   1074\u001b[0m \u001b[39mif\u001b[39;00m \u001b[39m'\u001b[39m\u001b[39mdrop_duplicates\u001b[39m\u001b[39m'\u001b[39m \u001b[39min\u001b[39;00m kwargs:\n\u001b[1;32m   1075\u001b[0m   tf_logging\u001b[39m.\u001b[39mwarn(\n\u001b[1;32m   1076\u001b[0m       \u001b[39m'\u001b[39m\u001b[39mdrop_duplicates is deprecated, you can drop duplicates \u001b[39m\u001b[39m'\u001b[39m\n\u001b[1;32m   1077\u001b[0m       \u001b[39m'\u001b[39m\u001b[39mby using the pandas.DataFrame.drop_duplicates method.\u001b[39m\u001b[39m'\u001b[39m,\n\u001b[1;32m   1078\u001b[0m       \u001b[39mDeprecationWarning\u001b[39;00m)\n\u001b[0;32m-> 1080\u001b[0m \u001b[39mreturn\u001b[39;00m DataFrameIterator(\n\u001b[1;32m   1081\u001b[0m     dataframe,\n\u001b[1;32m   1082\u001b[0m     directory,\n\u001b[1;32m   1083\u001b[0m     \u001b[39mself\u001b[39;49m,\n\u001b[1;32m   1084\u001b[0m     x_col\u001b[39m=\u001b[39;49mx_col,\n\u001b[1;32m   1085\u001b[0m     y_col\u001b[39m=\u001b[39;49my_col,\n\u001b[1;32m   1086\u001b[0m     weight_col\u001b[39m=\u001b[39;49mweight_col,\n\u001b[1;32m   1087\u001b[0m     target_size\u001b[39m=\u001b[39;49mtarget_size,\n\u001b[1;32m   1088\u001b[0m     color_mode\u001b[39m=\u001b[39;49mcolor_mode,\n\u001b[1;32m   1089\u001b[0m     classes\u001b[39m=\u001b[39;49mclasses,\n\u001b[1;32m   1090\u001b[0m     class_mode\u001b[39m=\u001b[39;49mclass_mode,\n\u001b[1;32m   1091\u001b[0m     data_format\u001b[39m=\u001b[39;49m\u001b[39mself\u001b[39;49m\u001b[39m.\u001b[39;49mdata_format,\n\u001b[1;32m   1092\u001b[0m     batch_size\u001b[39m=\u001b[39;49mbatch_size,\n\u001b[1;32m   1093\u001b[0m     shuffle\u001b[39m=\u001b[39;49mshuffle,\n\u001b[1;32m   1094\u001b[0m     seed\u001b[39m=\u001b[39;49mseed,\n\u001b[1;32m   1095\u001b[0m     save_to_dir\u001b[39m=\u001b[39;49msave_to_dir,\n\u001b[1;32m   1096\u001b[0m     save_prefix\u001b[39m=\u001b[39;49msave_prefix,\n\u001b[1;32m   1097\u001b[0m     save_format\u001b[39m=\u001b[39;49msave_format,\n\u001b[1;32m   1098\u001b[0m     subset\u001b[39m=\u001b[39;49msubset,\n\u001b[1;32m   1099\u001b[0m     interpolation\u001b[39m=\u001b[39;49minterpolation,\n\u001b[1;32m   1100\u001b[0m     validate_filenames\u001b[39m=\u001b[39;49mvalidate_filenames)\n",
      "File \u001b[0;32m~/anaconda3/envs/tensor/lib/python3.9/site-packages/tensorflow/python/keras/preprocessing/image.py:555\u001b[0m, in \u001b[0;36mDataFrameIterator.__init__\u001b[0;34m(self, dataframe, directory, image_data_generator, x_col, y_col, weight_col, target_size, color_mode, classes, class_mode, batch_size, shuffle, seed, data_format, save_to_dir, save_prefix, save_format, subset, interpolation, dtype, validate_filenames)\u001b[0m\n\u001b[1;32m    532\u001b[0m \u001b[39mdef\u001b[39;00m \u001b[39m__init__\u001b[39m(\n\u001b[1;32m    533\u001b[0m     \u001b[39mself\u001b[39m,\n\u001b[1;32m    534\u001b[0m     dataframe,\n\u001b[0;32m   (...)\u001b[0m\n\u001b[1;32m    553\u001b[0m     dtype\u001b[39m=\u001b[39m\u001b[39m'\u001b[39m\u001b[39mfloat32\u001b[39m\u001b[39m'\u001b[39m,\n\u001b[1;32m    554\u001b[0m     validate_filenames\u001b[39m=\u001b[39m\u001b[39mTrue\u001b[39;00m):\n\u001b[0;32m--> 555\u001b[0m   \u001b[39msuper\u001b[39;49m(DataFrameIterator, \u001b[39mself\u001b[39;49m)\u001b[39m.\u001b[39;49m\u001b[39m__init__\u001b[39;49m(\n\u001b[1;32m    556\u001b[0m       dataframe\u001b[39m=\u001b[39;49mdataframe,\n\u001b[1;32m    557\u001b[0m       directory\u001b[39m=\u001b[39;49mdirectory,\n\u001b[1;32m    558\u001b[0m       image_data_generator\u001b[39m=\u001b[39;49mimage_data_generator,\n\u001b[1;32m    559\u001b[0m       x_col\u001b[39m=\u001b[39;49mx_col,\n\u001b[1;32m    560\u001b[0m       y_col\u001b[39m=\u001b[39;49my_col,\n\u001b[1;32m    561\u001b[0m       weight_col\u001b[39m=\u001b[39;49mweight_col,\n\u001b[1;32m    562\u001b[0m       target_size\u001b[39m=\u001b[39;49mtarget_size,\n\u001b[1;32m    563\u001b[0m       color_mode\u001b[39m=\u001b[39;49mcolor_mode,\n\u001b[1;32m    564\u001b[0m       classes\u001b[39m=\u001b[39;49mclasses,\n\u001b[1;32m    565\u001b[0m       class_mode\u001b[39m=\u001b[39;49mclass_mode,\n\u001b[1;32m    566\u001b[0m       batch_size\u001b[39m=\u001b[39;49mbatch_size,\n\u001b[1;32m    567\u001b[0m       shuffle\u001b[39m=\u001b[39;49mshuffle,\n\u001b[1;32m    568\u001b[0m       seed\u001b[39m=\u001b[39;49mseed,\n\u001b[1;32m    569\u001b[0m       data_format\u001b[39m=\u001b[39;49mdata_format,\n\u001b[1;32m    570\u001b[0m       save_to_dir\u001b[39m=\u001b[39;49msave_to_dir,\n\u001b[1;32m    571\u001b[0m       save_prefix\u001b[39m=\u001b[39;49msave_prefix,\n\u001b[1;32m    572\u001b[0m       save_format\u001b[39m=\u001b[39;49msave_format,\n\u001b[1;32m    573\u001b[0m       subset\u001b[39m=\u001b[39;49msubset,\n\u001b[1;32m    574\u001b[0m       interpolation\u001b[39m=\u001b[39;49minterpolation,\n\u001b[1;32m    575\u001b[0m       dtype\u001b[39m=\u001b[39;49mdtype,\n\u001b[1;32m    576\u001b[0m       validate_filenames\u001b[39m=\u001b[39;49mvalidate_filenames\n\u001b[1;32m    577\u001b[0m   )\n",
      "File \u001b[0;32m~/anaconda3/envs/tensor/lib/python3.9/site-packages/keras_preprocessing/image/dataframe_iterator.py:142\u001b[0m, in \u001b[0;36mDataFrameIterator.__init__\u001b[0;34m(self, dataframe, directory, image_data_generator, x_col, y_col, weight_col, target_size, color_mode, classes, class_mode, batch_size, shuffle, seed, data_format, save_to_dir, save_prefix, save_format, subset, interpolation, dtype, validate_filenames)\u001b[0m\n\u001b[1;32m    140\u001b[0m     df \u001b[39m=\u001b[39m \u001b[39mself\u001b[39m\u001b[39m.\u001b[39m_filter_valid_filepaths(df, x_col)\n\u001b[1;32m    141\u001b[0m \u001b[39mif\u001b[39;00m class_mode \u001b[39mnot\u001b[39;00m \u001b[39min\u001b[39;00m [\u001b[39m\"\u001b[39m\u001b[39minput\u001b[39m\u001b[39m\"\u001b[39m, \u001b[39m\"\u001b[39m\u001b[39mmulti_output\u001b[39m\u001b[39m\"\u001b[39m, \u001b[39m\"\u001b[39m\u001b[39mraw\u001b[39m\u001b[39m\"\u001b[39m, \u001b[39mNone\u001b[39;00m]:\n\u001b[0;32m--> 142\u001b[0m     df, classes \u001b[39m=\u001b[39m \u001b[39mself\u001b[39;49m\u001b[39m.\u001b[39;49m_filter_classes(df, y_col, classes)\n\u001b[1;32m    143\u001b[0m     num_classes \u001b[39m=\u001b[39m \u001b[39mlen\u001b[39m(classes)\n\u001b[1;32m    144\u001b[0m     \u001b[39m# build an index of all the unique classes\u001b[39;00m\n",
      "File \u001b[0;32m~/anaconda3/envs/tensor/lib/python3.9/site-packages/keras_preprocessing/image/dataframe_iterator.py:256\u001b[0m, in \u001b[0;36mDataFrameIterator._filter_classes\u001b[0;34m(df, y_col, classes)\u001b[0m\n\u001b[1;32m    254\u001b[0m \u001b[39melse\u001b[39;00m:\n\u001b[1;32m    255\u001b[0m     classes \u001b[39m=\u001b[39m \u001b[39mset\u001b[39m()\n\u001b[0;32m--> 256\u001b[0m     \u001b[39mfor\u001b[39;00m v \u001b[39min\u001b[39;00m df[y_col]:\n\u001b[1;32m    257\u001b[0m         \u001b[39mif\u001b[39;00m \u001b[39misinstance\u001b[39m(v, (\u001b[39mlist\u001b[39m, \u001b[39mtuple\u001b[39m)):\n\u001b[1;32m    258\u001b[0m             classes\u001b[39m.\u001b[39mupdate(v)\n",
      "File \u001b[0;32m~/anaconda3/envs/tensor/lib/python3.9/site-packages/pandas/core/frame.py:3805\u001b[0m, in \u001b[0;36mDataFrame.__getitem__\u001b[0;34m(self, key)\u001b[0m\n\u001b[1;32m   3803\u001b[0m \u001b[39mif\u001b[39;00m \u001b[39mself\u001b[39m\u001b[39m.\u001b[39mcolumns\u001b[39m.\u001b[39mnlevels \u001b[39m>\u001b[39m \u001b[39m1\u001b[39m:\n\u001b[1;32m   3804\u001b[0m     \u001b[39mreturn\u001b[39;00m \u001b[39mself\u001b[39m\u001b[39m.\u001b[39m_getitem_multilevel(key)\n\u001b[0;32m-> 3805\u001b[0m indexer \u001b[39m=\u001b[39m \u001b[39mself\u001b[39;49m\u001b[39m.\u001b[39;49mcolumns\u001b[39m.\u001b[39;49mget_loc(key)\n\u001b[1;32m   3806\u001b[0m \u001b[39mif\u001b[39;00m is_integer(indexer):\n\u001b[1;32m   3807\u001b[0m     indexer \u001b[39m=\u001b[39m [indexer]\n",
      "File \u001b[0;32m~/anaconda3/envs/tensor/lib/python3.9/site-packages/pandas/core/indexes/base.py:3802\u001b[0m, in \u001b[0;36mIndex.get_loc\u001b[0;34m(self, key, method, tolerance)\u001b[0m\n\u001b[1;32m   3800\u001b[0m     \u001b[39mreturn\u001b[39;00m \u001b[39mself\u001b[39m\u001b[39m.\u001b[39m_engine\u001b[39m.\u001b[39mget_loc(casted_key)\n\u001b[1;32m   3801\u001b[0m \u001b[39mexcept\u001b[39;00m \u001b[39mKeyError\u001b[39;00m \u001b[39mas\u001b[39;00m err:\n\u001b[0;32m-> 3802\u001b[0m     \u001b[39mraise\u001b[39;00m \u001b[39mKeyError\u001b[39;00m(key) \u001b[39mfrom\u001b[39;00m \u001b[39merr\u001b[39;00m\n\u001b[1;32m   3803\u001b[0m \u001b[39mexcept\u001b[39;00m \u001b[39mTypeError\u001b[39;00m:\n\u001b[1;32m   3804\u001b[0m     \u001b[39m# If we have a listlike key, _check_indexing_error will raise\u001b[39;00m\n\u001b[1;32m   3805\u001b[0m     \u001b[39m#  InvalidIndexError. Otherwise we fall through and re-raise\u001b[39;00m\n\u001b[1;32m   3806\u001b[0m     \u001b[39m#  the TypeError.\u001b[39;00m\n\u001b[1;32m   3807\u001b[0m     \u001b[39mself\u001b[39m\u001b[39m.\u001b[39m_check_indexing_error(key)\n",
      "\u001b[0;31mKeyError\u001b[0m: 'Label'"
     ]
    }
   ],
   "source": [
    "# Generate images using 'train_df' DataFrame\n",
    "train_images = train_generator.flow_from_dataframe(\n",
    "    dataframe  = train_df,\n",
    "    x_col = 'Filepath',\n",
    "    y_col = 'Label',\n",
    "    target_size = (224, 224),\n",
    "    color_mode = 'rgb',\n",
    "    class_mode = 'categorical',\n",
    "    batch_size = 32,\n",
    "    shuffle = True,\n",
    "    seed = 0,\n",
    "    rotation_range = 30,\n",
    "    zoom_range = 0.15,\n",
    "    width_shift_range = 0.2,\n",
    "    height_shift_range = 0.2,\n",
    "    shear_range = 0.15,\n",
    "    horizontal_flip = True,\n",
    "    fill_mode = 'nearest'\n",
    ")"
   ]
  },
  {
   "cell_type": "code",
   "execution_count": null,
   "metadata": {
    "execution": {
     "iopub.execute_input": "2022-09-08T20:10:23.391096Z",
     "iopub.status.busy": "2022-09-08T20:10:23.390170Z",
     "iopub.status.idle": "2022-09-08T20:10:40.052478Z",
     "shell.execute_reply": "2022-09-08T20:10:40.051398Z",
     "shell.execute_reply.started": "2022-09-08T20:10:23.391058Z"
    }
   },
   "outputs": [
    {
     "ename": "",
     "evalue": "",
     "output_type": "error",
     "traceback": [
      "\u001b[1;31mRunning cells with 'Python 3.9.13 ('tensor')' requires ipykernel package.\n",
      "\u001b[1;31mRun the following command to install 'ipykernel' into the Python environment. \n",
      "\u001b[1;31mCommand: 'conda install -n tensor ipykernel --update-deps --force-reinstall'"
     ]
    }
   ],
   "source": [
    "# Generate images using 'val_df' DataFrame\n",
    "val_images = train_generator.flow_from_dataframe(\n",
    "    dataframe  = val_df,\n",
    "    x_col = 'Filepath',\n",
    "    y_col = 'Label',\n",
    "    target_size = (224, 224),\n",
    "    color_mode = 'rgb',\n",
    "    class_mode = 'categorical',\n",
    "    batch_size = 32,\n",
    "    shuffle = True,\n",
    "    seed = 0,\n",
    "    rotation_range = 30,\n",
    "    zoom_range = 0.15,\n",
    "    width_shift_range = 0.2,\n",
    "    height_shift_range = 0.2,\n",
    "    shear_range = 0.15,\n",
    "    horizontal_flip = True,\n",
    "    fill_mode = 'nearest'\n",
    ")"
   ]
  },
  {
   "cell_type": "code",
   "execution_count": null,
   "metadata": {
    "execution": {
     "iopub.execute_input": "2022-09-08T20:11:06.066060Z",
     "iopub.status.busy": "2022-09-08T20:11:06.065451Z",
     "iopub.status.idle": "2022-09-08T20:11:10.409127Z",
     "shell.execute_reply": "2022-09-08T20:11:10.408092Z",
     "shell.execute_reply.started": "2022-09-08T20:11:06.066025Z"
    }
   },
   "outputs": [
    {
     "ename": "",
     "evalue": "",
     "output_type": "error",
     "traceback": [
      "\u001b[1;31mRunning cells with 'Python 3.9.13 ('tensor')' requires ipykernel package.\n",
      "\u001b[1;31mRun the following command to install 'ipykernel' into the Python environment. \n",
      "\u001b[1;31mCommand: 'conda install -n tensor ipykernel --update-deps --force-reinstall'"
     ]
    }
   ],
   "source": [
    "# Use Tensorflow pretrained model\n",
    "pretrained_model = tf.keras.applications.MobileNetV2(\n",
    "input_shape= (224, 224, 3),\n",
    "include_top = False,\n",
    "weights = 'imagenet',\n",
    "pooling = 'avg'\n",
    ")\n",
    "\n",
    "# Freeze weights\n",
    "pretrained_model.trainable = False"
   ]
  },
  {
   "cell_type": "code",
   "execution_count": null,
   "metadata": {
    "execution": {
     "iopub.execute_input": "2022-09-08T20:11:16.462892Z",
     "iopub.status.busy": "2022-09-08T20:11:16.462195Z",
     "iopub.status.idle": "2022-09-08T20:11:16.512380Z",
     "shell.execute_reply": "2022-09-08T20:11:16.511472Z",
     "shell.execute_reply.started": "2022-09-08T20:11:16.462856Z"
    }
   },
   "outputs": [
    {
     "ename": "",
     "evalue": "",
     "output_type": "error",
     "traceback": [
      "\u001b[1;31mRunning cells with 'Python 3.9.13 ('tensor')' requires ipykernel package.\n",
      "\u001b[1;31mRun the following command to install 'ipykernel' into the Python environment. \n",
      "\u001b[1;31mCommand: 'conda install -n tensor ipykernel --update-deps --force-reinstall'"
     ]
    }
   ],
   "source": [
    "# Create weights\n",
    "inputs = pretrained_model.input\n",
    "\n",
    "x = tf.keras.layers.Dense(128, activation = 'relu')(pretrained_model.output)\n",
    "x = tf.keras.layers.Dense(128, activation = 'relu')(x)\n",
    "\n",
    "outputs = tf.keras.layers.Dense(2, activation = 'softmax')(x)\n",
    "\n",
    "model = tf.keras.Model(inputs = inputs, outputs = outputs)\n",
    "\n",
    "model.compile(\n",
    "    optimizer = 'adam',\n",
    "    loss = 'categorical_crossentropy',\n",
    "    metrics = ['accuracy']\n",
    ")"
   ]
  },
  {
   "cell_type": "code",
   "execution_count": null,
   "metadata": {
    "execution": {
     "iopub.execute_input": "2022-09-08T05:56:10.773985Z",
     "iopub.status.busy": "2022-09-08T05:56:10.773594Z",
     "iopub.status.idle": "2022-09-08T06:16:45.748314Z",
     "shell.execute_reply": "2022-09-08T06:16:45.747308Z",
     "shell.execute_reply.started": "2022-09-08T05:56:10.773952Z"
    }
   },
   "outputs": [
    {
     "ename": "",
     "evalue": "",
     "output_type": "error",
     "traceback": [
      "\u001b[1;31mRunning cells with 'Python 3.9.13 ('tensor')' requires ipykernel package.\n",
      "\u001b[1;31mRun the following command to install 'ipykernel' into the Python environment. \n",
      "\u001b[1;31mCommand: 'conda install -n tensor ipykernel --update-deps --force-reinstall'"
     ]
    }
   ],
   "source": [
    "# Train model\n",
    "history = model.fit(\n",
    "    train_images,\n",
    "    validation_data = val_images,\n",
    "    batch_size = 32,\n",
    "    epochs = 20,\n",
    "    callbacks = [\n",
    "        tf.keras.callbacks.EarlyStopping(\n",
    "            monitor = 'val_loss',\n",
    "            patience = 2,\n",
    "            restore_best_weights = True\n",
    "        )  \n",
    "    ]\n",
    ")"
   ]
  },
  {
   "cell_type": "code",
   "execution_count": null,
   "metadata": {
    "execution": {
     "iopub.execute_input": "2022-09-08T06:17:25.992346Z",
     "iopub.status.busy": "2022-09-08T06:17:25.991954Z",
     "iopub.status.idle": "2022-09-08T06:17:25.997793Z",
     "shell.execute_reply": "2022-09-08T06:17:25.996498Z",
     "shell.execute_reply.started": "2022-09-08T06:17:25.992311Z"
    }
   },
   "outputs": [
    {
     "ename": "",
     "evalue": "",
     "output_type": "error",
     "traceback": [
      "\u001b[1;31mRunning cells with 'Python 3.9.13 ('tensor')' requires ipykernel package.\n",
      "\u001b[1;31mRun the following command to install 'ipykernel' into the Python environment. \n",
      "\u001b[1;31mCommand: 'conda install -n tensor ipykernel --update-deps --force-reinstall'"
     ]
    }
   ],
   "source": [
    "# Create labels dictionary\n",
    "labels = {0: 'female',\n",
    "         1: 'male'}"
   ]
  },
  {
   "cell_type": "code",
   "execution_count": null,
   "metadata": {
    "execution": {
     "iopub.execute_input": "2022-09-08T06:17:31.436233Z",
     "iopub.status.busy": "2022-09-08T06:17:31.435854Z",
     "iopub.status.idle": "2022-09-08T06:17:31.443312Z",
     "shell.execute_reply": "2022-09-08T06:17:31.442219Z",
     "shell.execute_reply.started": "2022-09-08T06:17:31.436201Z"
    }
   },
   "outputs": [
    {
     "ename": "",
     "evalue": "",
     "output_type": "error",
     "traceback": [
      "\u001b[1;31mRunning cells with 'Python 3.9.13 ('tensor')' requires ipykernel package.\n",
      "\u001b[1;31mRun the following command to install 'ipykernel' into the Python environment. \n",
      "\u001b[1;31mCommand: 'conda install -n tensor ipykernel --update-deps --force-reinstall'"
     ]
    }
   ],
   "source": [
    "# Create a function for image processing and prediction\n",
    "def output(imagepath):\n",
    "    img = image.load_img(imagepath, target_size=(224, 224, 3))\n",
    "    img = img_to_array(img)\n",
    "    img = img/255\n",
    "    img = np.expand_dims(img, [0])\n",
    "    \n",
    "    answer = model.predict(img)[0]\n",
    "    \n",
    "    idx = answer.argmax(axis=-1)\n",
    "    res = labels[idx]\n",
    "    \n",
    "    return res"
   ]
  },
  {
   "cell_type": "code",
   "execution_count": null,
   "metadata": {
    "execution": {
     "iopub.execute_input": "2022-09-08T06:17:32.754689Z",
     "iopub.status.busy": "2022-09-08T06:17:32.753735Z",
     "iopub.status.idle": "2022-09-08T06:17:33.454082Z",
     "shell.execute_reply": "2022-09-08T06:17:33.453157Z",
     "shell.execute_reply.started": "2022-09-08T06:17:32.754640Z"
    }
   },
   "outputs": [
    {
     "ename": "",
     "evalue": "",
     "output_type": "error",
     "traceback": [
      "\u001b[1;31mRunning cells with 'Python 3.9.13 ('tensor')' requires ipykernel package.\n",
      "\u001b[1;31mRun the following command to install 'ipykernel' into the Python environment. \n",
      "\u001b[1;31mCommand: 'conda install -n tensor ipykernel --update-deps --force-reinstall'"
     ]
    }
   ],
   "source": [
    "# Predict gender\n",
    "img = output('../input/gender-classification-dataset/Validation/male/063515.jpg.jpg')\n",
    "img"
   ]
  },
  {
   "cell_type": "code",
   "execution_count": null,
   "metadata": {
    "execution": {
     "iopub.execute_input": "2022-09-08T06:17:39.714089Z",
     "iopub.status.busy": "2022-09-08T06:17:39.713078Z",
     "iopub.status.idle": "2022-09-08T06:17:39.998859Z",
     "shell.execute_reply": "2022-09-08T06:17:39.997887Z",
     "shell.execute_reply.started": "2022-09-08T06:17:39.714050Z"
    }
   },
   "outputs": [
    {
     "ename": "",
     "evalue": "",
     "output_type": "error",
     "traceback": [
      "\u001b[1;31mRunning cells with 'Python 3.9.13 ('tensor')' requires ipykernel package.\n",
      "\u001b[1;31mRun the following command to install 'ipykernel' into the Python environment. \n",
      "\u001b[1;31mCommand: 'conda install -n tensor ipykernel --update-deps --force-reinstall'"
     ]
    }
   ],
   "source": [
    "# Save model\n",
    "model.save('GR.h5')"
   ]
  }
 ],
 "metadata": {
  "kernelspec": {
   "display_name": "Python 3.9.13 ('tensor')",
   "language": "python",
   "name": "python3"
  },
  "language_info": {
   "codemirror_mode": {
    "name": "ipython",
    "version": 3
   },
   "file_extension": ".py",
   "mimetype": "text/x-python",
   "name": "python",
   "nbconvert_exporter": "python",
   "pygments_lexer": "ipython3",
   "version": "3.9.13"
  },
  "vscode": {
   "interpreter": {
    "hash": "967b469dcbdf82b03cc04455dff48d09ea826723a6f39a6ba03d25c7eab2c830"
   }
  }
 },
 "nbformat": 4,
 "nbformat_minor": 4
}
